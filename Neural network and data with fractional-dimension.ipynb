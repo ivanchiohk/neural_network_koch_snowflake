{
 "cells": [
  {
   "cell_type": "markdown",
   "metadata": {},
   "source": [
    "# Neural network and data with fractional dimension\n",
    "\n",
    "The purpose of this notebook is to investigate how much neural networks can recognize data sets having \"fractional\" dimension.\n",
    "\n",
    "To simulate such a dataset, we first write a program which will generate the Koch snowflake, a well-known fractal with fractional (Hausdorff) dimension. The output of the function are the (x,y) coordinates of points of the Koch snowflake.  Since fractals are limiting objects, we will use the $n$-th approximation of the Koch snowflake $K_n$, i.e. the program outputs the vertices of $K_n$."
   ]
  },
  {
   "cell_type": "code",
   "execution_count": 1,
   "metadata": {},
   "outputs": [],
   "source": [
    "import math as math  \n",
    "import matplotlib.pyplot as plt \n",
    "import numpy as np\n",
    "import pandas as pd\n"
   ]
  },
  {
   "cell_type": "markdown",
   "metadata": {},
   "source": [
    "## Part I: Generating the fractals (Koch snowflake)"
   ]
  },
  {
   "cell_type": "code",
   "execution_count": 2,
   "metadata": {},
   "outputs": [],
   "source": [
    "# Defines a point to be an x and y coordinate.\n",
    "class Point:\n",
    "    def __init__(self, x, y):\n",
    "        self.x = x\n",
    "        self.y = y\n",
    "    \n",
    "    # Returns a string representing the point.\n",
    "    def toString(self):\n",
    "        return(\"(\" + str(self.x) + \", \" + str(self.y) + \")\")"
   ]
  },
  {
   "cell_type": "code",
   "execution_count": 3,
   "metadata": {},
   "outputs": [],
   "source": [
    "# Defines a line to be a pair of Point objects.\n",
    "# p1/p2 should be the first/last point when traversing from left\n",
    "\n",
    "class Line:\n",
    "    def __init__(self, p1, p2):\n",
    "        self.p1 = p1\n",
    "        self.p2 = p2\n",
    "     \n",
    "    # Returns the length of the line.\n",
    "    def length(self):\n",
    "        x1 = self.p1.x\n",
    "        x2 = self.p2.x\n",
    "        y1 = self.p1.y\n",
    "        y2 = self.p2.y\n",
    "        length = math.sqrt((x1-x2)**2 + (y1-y2)**2)\n",
    "        return(length)\n",
    "    \n",
    "    # Returns the slope of the line.\n",
    "    def slope(self):\n",
    "        m = (self.p1.y - self.p2.y)/(self.p1.x - self.p2.x)\n",
    "        return(m)\n",
    "    \n",
    "    # Returns the \"bottom\" point we will need to \"Koch\" the line. \n",
    "    def getTopPoint(self, a):\n",
    "        p1 = self.p1  # Gets the first endpoint of the line.\n",
    "        p2 = self.p2  # Gets the other endpoint of the line.\n",
    "        \n",
    "        w = abs(p2.x-p1.x)  # Width of big triangle.\n",
    "        h = abs(p2.y-p1.y)  # Height of big triangle.\n",
    "        l = self.length() # Length of line.\n",
    "        t = l*a  # Length of line we are removing.\n",
    "        s = h*(l-t)/(2*l) # Vertical unkown distance.\n",
    "        r = w*(l-t)/(2*l) # Horizontal unkown distance.\n",
    "\n",
    "        # Determines the top point depending on the slope of the line.\n",
    "        if(self.slope() >= 0):\n",
    "            xCoord = max(p1.x, p2.x) - r\n",
    "            yCoord = max(p1.y, p2.y) - s\n",
    "        else:\n",
    "            xCoord = min(p1.x, p2.x) + r\n",
    "            yCoord = max(p1.y, p2.y) - s\n",
    "        \n",
    "        point = Point(xCoord, yCoord)\n",
    "        return(point)\n",
    "    # Returns the \"bottom\" point we will need to \"Koch\" the line.\n",
    "    def getBottomPoint(self, a):\n",
    "        p1 = self.p1  # Gets the first endpoint of the line.\n",
    "        p2 = self.p2  # Gets the last endpoint of the line.\n",
    "        \n",
    "        w = abs(p2.x-p1.x)  # Width of big triangle.\n",
    "        h = abs(p2.y-p1.y)  # Height of big triangle.\n",
    "        l = self.length()  # Length of line.\n",
    "        t = l*a  # Length of line we are removing.\n",
    "        s = h*(l-t)/(2*l) # Vertical unkown distance.\n",
    "        r = w*(l-t)/(2*l) # Horizontal unkown distance\n",
    "        \n",
    "        # Determines the bottom point depending on the slope of the line.\n",
    "        if(self.slope() >= 0):\n",
    "            xCoord = min(p1.x, p2.x) + r\n",
    "            yCoord = min(p1.y, p2.y) + s \n",
    "        else:\n",
    "            xCoord = max(p1.x, p2.x) - r\n",
    "            yCoord = min(p1.y, p2.y) + s\n",
    "            \n",
    "        point = Point(xCoord, yCoord)\n",
    "        return(point)\n",
    "    \n",
    "    # Returns the point that is the tip of the isoceles triangle when trying to \"Koch\" the line.\n",
    "    def getKochPoint(self, a):\n",
    "        topPoint = self.getTopPoint(a)  # Gets top point.\n",
    "        bottomPoint = self.getBottomPoint(a)  # Gets bottom point.\n",
    "        h = abs(topPoint.y - bottomPoint.y)  # Vertical distance between top point and bottom point.\n",
    "        w = abs(topPoint.x - bottomPoint.x)\n",
    "        l = self.length() # Length of the line.\n",
    "        t = l*a # Length of the part we removed.\n",
    "     \n",
    "        # Calculates the angles we need.                                  \n",
    "        alpha = math.atan(h/w)\n",
    "        beta = math.acos(t/(l-t))\n",
    "        gamma = math.pi - alpha - beta\n",
    "        \n",
    "        # Caluclates the horizontal and vertical distances (respectfully) from the bottomPoint's \n",
    "        # coordinates to the desired Koch point's coordinates. \n",
    "        r = ((l-t)/2)*math.cos(gamma)\n",
    "        s = ((l-t)/2)*math.sin(gamma)\n",
    "        \n",
    "        # Depending on the slope of the line, the coordinates of the Koch point will be\n",
    "        # different.\n",
    "        if(self.slope() >= 0):\n",
    "            xCoord = bottomPoint.x - r\n",
    "            yCoord = bottomPoint.y + s\n",
    "        else:\n",
    "            xCoord = bottomPoint.x + r\n",
    "            yCoord = bottomPoint.y + s\n",
    "                                          \n",
    "        point = Point(xCoord, yCoord)                               \n",
    "        return(point)\n",
    "    \n",
    "    # Returns the point that is the tip of the isoceles triangle when trying to \"Koch\" the line.\n",
    "    def altGetKochPoint(self, a):\n",
    "        topPoint = self.getTopPoint(a)  # Gets top point.\n",
    "        bottomPoint = self.getBottomPoint(a)  # Gets bottom point.\n",
    "        h = abs(topPoint.y - bottomPoint.y)  # Vertical distance between top point and bottom point.\n",
    "        w = abs(topPoint.x - bottomPoint.x)\n",
    "        l = self.length() # Length of the line.\n",
    "        t = l*a # Length of the part we removed.\n",
    "     \n",
    "        # Calculates the angles we need.                                  \n",
    "        alpha = math.atan(h/w)\n",
    "        beta = math.acos(t/(l-t))\n",
    "        gamma = math.pi - alpha - beta\n",
    "        \n",
    "        # Caluclates the horizontal and vertical distances (respectfully) from the bottomPoint's \n",
    "        # coordinates to the desired Koch point's coordinates. \n",
    "        r = ((l-t)/2)*math.cos(gamma)\n",
    "        s = ((l-t)/2)*math.sin(gamma)\n",
    "        \n",
    "        # Depending on the slope of the line, the coordinates of the Koch point will be\n",
    "        # different.\n",
    "        if(self.slope() >= 0):\n",
    "            xCoord = topPoint.x + r\n",
    "            yCoord = topPoint.y - s\n",
    "        else:\n",
    "            xCoord = topPoint.x - r\n",
    "            yCoord = topPoint.y - s\n",
    "                                          \n",
    "        point = Point(xCoord, yCoord)                               \n",
    "        return(point)\n",
    "    \n",
    "    # Returns a list of lines that results from performing 1 step in the Koch curve construction.\n",
    "    def kochLine(self, a, k):\n",
    "        topPoint = self.getTopPoint(a)  # Gets top point.\n",
    "        bottomPoint = self.getBottomPoint(a)  # Gets bottom point.\n",
    "       \n",
    "        if(k == 0):\n",
    "            kochPoint = self.getKochPoint(a)  # Gets Koch point.\n",
    "        else:\n",
    "            kochPoint = self.altGetKochPoint(a)\n",
    "                \n",
    "        p1 = self.p1  # Gets first endpoint of line.\n",
    "        p2 = self.p2  # Gets other endpoint of line.\n",
    "        \n",
    "        # I want these lines from left to right, and the order depends on the slope of the line.\n",
    "        # Constructs the 4 lines we want.\n",
    "        if(self.slope() >= 0):\n",
    "            line1 = Line(p1, bottomPoint)\n",
    "            line2 = Line(bottomPoint, kochPoint)\n",
    "            line3 = Line(kochPoint, topPoint)\n",
    "            line4 = Line(topPoint, p2)\n",
    "        else:\n",
    "            line1 = Line(p1, topPoint)\n",
    "            line2 = Line(topPoint, kochPoint)\n",
    "            line3 = Line(kochPoint, bottomPoint)\n",
    "            line4 = Line(bottomPoint, p2)\n",
    "        \n",
    "        # Returns the 4 new lines we get from Koching the original line.\n",
    "        lineList = [line1, line2, line3, line4]\n",
    "        return(lineList)\n",
    "    \n",
    "    # Returns a string that represents the line.\n",
    "    def toString(self):\n",
    "        print(\"Line = \" + \"(\" + self.p1.toString() + \", \" + self.p2.toString() + \")\")\n",
    "    \n",
    "    # Plots the line on a set of axes.    \n",
    "    def show(self):\n",
    "        xVals = [self.p1.x, self.p2.x]\n",
    "        yVals = [self.p1.y, self.p2.y]\n",
    "        plt.plot(xVals, yVals)\n",
    "\n"
   ]
  },
  {
   "cell_type": "code",
   "execution_count": 4,
   "metadata": {},
   "outputs": [],
   "source": [
    "# Defines a Curve to be a list of Line objects.\n",
    "class Curve:\n",
    "    def __init__(self, lineList):\n",
    "        self.lineList = lineList;\n",
    "     \n",
    "    # Plots the Curve on a set of axes.\n",
    "    def show(self):\n",
    "        fig = plt.figure(figsize=(10, 10))\n",
    "        ax = fig.add_subplot(111)\n",
    "        plt.xlim(-0.5, 1.5)\n",
    "        plt.ylim(-0.25, 1)\n",
    "        ax.set_aspect('equal', adjustable='box')\n",
    "        for i in range(len(self.lineList)):\n",
    "            self.lineList[i].show()\n",
    "            \n"
   ]
  },
  {
   "cell_type": "code",
   "execution_count": 5,
   "metadata": {},
   "outputs": [],
   "source": [
    "# Recursively constructs the Koch curve from previous iterations. 'a' is the fraction of the base line you want\n",
    "# to remove in each step. 'n' is the number of iterations, and 'lineList' is a list of lines.\n",
    "def kochCurve(a, n, lineList):\n",
    "    if(n == 0):\n",
    "        return(lineList)\n",
    "    else:\n",
    "        newList = []\n",
    "        ## Fix\n",
    "        for line in lineList:\n",
    "            if(line.p1.x > line.p2.x and line.slope() < 0):\n",
    "                altLine = Line(line.p2, line.p1)\n",
    "                newList = newList + altLine.kochLine(a, 1)\n",
    "            elif(line.p1.x > line.p2.x and line.slope() >= 0):\n",
    "                altLine = Line(line.p2, line.p1)\n",
    "                newList = newList + altLine.kochLine(a, 1)\n",
    "            elif(line.p1.x <= line.p2.x and line.slope() < 0):\n",
    "                newList = newList + line.kochLine(a, 0)\n",
    "            elif(line.p1.x <= line.p2.x and line.slope() >= 0):    \n",
    "                newList = newList + line.kochLine(a, 0)\n",
    "        return(kochCurve(a, n-1, newList))\n"
   ]
  },
  {
   "cell_type": "code",
   "execution_count": 6,
   "metadata": {},
   "outputs": [],
   "source": [
    "def getXCoordinates(lineList):\n",
    "    xList = []\n",
    "    for line in lineList:\n",
    "        xList.append(line.p1.x)\n",
    "        xList.append(line.p2.x)\n",
    "    xNumPy = np.array(xList)\n",
    "    return(xNumPy)\n",
    "\n",
    "def getYCoordinates(lineList):\n",
    "    yList = []\n",
    "    for line in lineList:\n",
    "        yList.append(line.p1.y)\n",
    "        yList.append(line.p2.y)\n",
    "    yNumPy = np.array(yList)\n",
    "    return(yNumPy)"
   ]
  },
  {
   "cell_type": "code",
   "execution_count": 7,
   "metadata": {},
   "outputs": [],
   "source": [
    "def get_koch_coordinates(proportion_taken_out, num_of_iterate):\n",
    "    p1 = Point(0,0)\n",
    "    p2 = Point(1,0)\n",
    "    baseLine = Line(p1, p2)\n",
    "\n",
    "\n",
    "    baseList = [baseLine]\n",
    "    curveList = kochCurve(proportion_taken_out,\n",
    "                          num_of_iterate, \n",
    "                          baseList)\n",
    "    curve = Curve(curveList)\n",
    "    curve.show()\n",
    "\n",
    "\n",
    "    npx = getXCoordinates(curveList)\n",
    "    npy = getYCoordinates(curveList)\n",
    "\n",
    "    return npx, npy\n"
   ]
  },
  {
   "cell_type": "code",
   "execution_count": 35,
   "metadata": {},
   "outputs": [
    {
     "data": {
      "image/png": "[encoded data removed]",
      "text/plain": [
       "<Figure size 720x720 with 1 Axes>"
      ]
     },
     "metadata": {
      "needs_background": "light"
     },
     "output_type": "display_data"
    }
   ],
   "source": [
    "x_coord, y_coord = get_koch_coordinates(1/3, 8)"
   ]
  },
  {
   "cell_type": "markdown",
   "metadata": {},
   "source": [
    "## Part II: Data preparation\n",
    "\n",
    "We will use the program above to prepare a dataset to feed into a neural network.\n",
    "The output of the above program are the x, y coordinates of the points lying on the Koch snowflake. We will manually assign them label \"1\"."
   ]
  },
  {
   "cell_type": "code",
   "execution_count": 36,
   "metadata": {},
   "outputs": [],
   "source": [
    "x_coord = x_coord.reshape((len(x1), 1))\n",
    "y_coord = y_coord.reshape((len(y1), 1))\n",
    "\n",
    "# combine the x, y coordinates as two side-by-side columns\n",
    "X1 = np.hstack((x_coord, y_coord))\n",
    "\n",
    "# manually assign label 1 to these points (since they're on the curve)\n",
    "y1 = np.array([1 for point in X1])"
   ]
  },
  {
   "cell_type": "code",
   "execution_count": 38,
   "metadata": {},
   "outputs": [
    {
     "data": {
      "text/plain": [
       "131072"
      ]
     },
     "execution_count": 38,
     "metadata": {},
     "output_type": "execute_result"
    }
   ],
   "source": [
    "len(X1)"
   ]
  },
  {
   "cell_type": "markdown",
   "metadata": {},
   "source": [
    "The program above outputs a plot of the $n$-th Koch snowflake by interpolating the vertices. Here we define the function __plot__ which only plots the vertices themselves as a scatterplot. This will be useful later when we interpret the output of a neural network."
   ]
  },
  {
   "cell_type": "code",
   "execution_count": 43,
   "metadata": {},
   "outputs": [],
   "source": [
    "def plot(x_left_lim,    x_right_lim,\n",
    "         y_bottom_lim,  y_top_lim,\n",
    "         fig_size_w,    fig_size_h,\n",
    "         x_arr,         y_arr):\n",
    "\n",
    "\n",
    "\n",
    "    plt.figure(figsize=(fig_size_w, fig_size_h))\n",
    "\n",
    "    plt.xlim(x_left_lim,   x_right_lim)\n",
    "    plt.ylim(y_bottom_lim, y_top_lim)\n",
    "\n",
    "\n",
    "    plt.scatter(x_arr, y_arr, s=0.0001)\n",
    "    plt.show()"
   ]
  },
  {
   "cell_type": "markdown",
   "metadata": {},
   "source": [
    "For example, we plot the vertices of $K_n$, obtained from the above program. This time we do not interpolate the points, and only do a scatterplot of the vertices."
   ]
  },
  {
   "cell_type": "code",
   "execution_count": 44,
   "metadata": {},
   "outputs": [
    {
     "data": {
      "image/png": "[encoded data removed]",
      "text/plain": [
       "<Figure size 864x360 with 1 Axes>"
      ]
     },
     "metadata": {
      "needs_background": "light"
     },
     "output_type": "display_data"
    }
   ],
   "source": [
    "plot(-0.2,    1.2, \n",
    "     -0.1,    0.35,\n",
    "     12,      5,\n",
    "     X1[:,0], X1[:,1])"
   ]
  },
  {
   "cell_type": "markdown",
   "metadata": {},
   "source": [
    "We already have the points on the snowflake labelled as 1. To train a classifier we also need points with labelled 0, indicating they are not on the snowflake. \n",
    "\n",
    "We do this by first creating a list of evenly spaced points along the $x$-axis, and similarly for the $y$-axis. Then we make the Cartesian product of the two arrays to create a list of square lattice points on the plane. These points will be labelled 0.\n",
    "\n",
    "For the points that are close enough to the snowflake, it is possible that the label really should be 1, but we will ignore this for now."
   ]
  },
  {
   "cell_type": "code",
   "execution_count": 45,
   "metadata": {},
   "outputs": [],
   "source": [
    "def make_K_complement(x_left_lim,      x_right_lim,\n",
    "                      y_top_lim,       y_bottom_lim,\n",
    "                      x_num_of_points, y_num_of_points):\n",
    "\n",
    "\n",
    "    # create the x, y coordinates\n",
    "    # x in [x_left_lim, x_right_lim], y in [y_bottom_lim, y_top_lim].\n",
    "    x_coord_train = np.linspace(x_left_lim, x_right_lim,  x_num_of_points)\n",
    "    y_coord_train = np.linspace(y_top_lim,  y_bottom_lim, y_num_of_points)\n",
    "\n",
    "\n",
    "    # create the Cartesian product of x_coord_train, y_coord_train\n",
    "    X0 = np.transpose([np.tile(x_coord_train, len(y_coord_train)), np.repeat(y_coord_train, len(x_coord_train))])\n",
    "    y0 = np.array([0 for point in X0])\n",
    "\n",
    "    return X0, y0\n"
   ]
  },
  {
   "cell_type": "code",
   "execution_count": 46,
   "metadata": {},
   "outputs": [],
   "source": [
    "X0, y0 = make_K_complement(-0.1, 1.1,\n",
    "                           0.35, -0.1,\n",
    "                           400*3, 400*2)"
   ]
  },
  {
   "cell_type": "code",
   "execution_count": 47,
   "metadata": {},
   "outputs": [
    {
     "data": {
      "text/plain": [
       "960000"
      ]
     },
     "execution_count": 47,
     "metadata": {},
     "output_type": "execute_result"
    }
   ],
   "source": [
    "len(X0)"
   ]
  },
  {
   "cell_type": "markdown",
   "metadata": {},
   "source": [
    "Now we have two sets of data: \n",
    "\n",
    " - X0, y0\n",
    " - X1, y1\n",
    "\n",
    "corresponding to points on the Koch snowflake and those that are not. \n",
    "We will combine the two as a single dataset, then shuffle the index of the data points before doing a train_test_split.\n",
    "\n",
    "The reason we shuffle the index is because as we concatenate the two datasets, the data with label 1 are at the top, and the those with label 0 are in the bottom."
   ]
  },
  {
   "cell_type": "code",
   "execution_count": 48,
   "metadata": {},
   "outputs": [
    {
     "name": "stdout",
     "output_type": "stream",
     "text": [
      "(1091072, 2)\n",
      "(1091072,)\n"
     ]
    }
   ],
   "source": [
    "# X_train contains 2 cols: x, y coordinates of the points\n",
    "# y_train is the corresponding label (0,1)\n",
    "\n",
    "X = np.concatenate((X0, X1), axis=0)\n",
    "y = np.concatenate((y0, y1), axis=0)\n",
    "\n",
    "\n",
    "# randomize the index\n",
    "idx = np.random.permutation(len(X))\n",
    "X, y = X[idx], y[idx]\n",
    "\n",
    "\n",
    "# check to make sure X, y have the right dimension\n",
    "print(X.shape)\n",
    "print(y.shape)"
   ]
  },
  {
   "cell_type": "code",
   "execution_count": 49,
   "metadata": {},
   "outputs": [
    {
     "data": {
      "text/plain": [
       "[0, 1, 0, 0, 0, 0, 0, 0, 0, 1]"
      ]
     },
     "execution_count": 49,
     "metadata": {},
     "output_type": "execute_result"
    }
   ],
   "source": [
    "# make sure labels are shuffled, so we don't have all 0's then all 1's.\n",
    "y_list = y.tolist()\n",
    "\n",
    "y_list[-10:]"
   ]
  },
  {
   "cell_type": "code",
   "execution_count": 50,
   "metadata": {},
   "outputs": [],
   "source": [
    "from sklearn.model_selection import train_test_split\n",
    "\n",
    "X_train, X_test, y_train, y_test = train_test_split(X, y, test_size=0.3, random_state=18)"
   ]
  },
  {
   "cell_type": "markdown",
   "metadata": {},
   "source": [
    "## Part III: Feeding the data to a neural network"
   ]
  },
  {
   "cell_type": "code",
   "execution_count": 51,
   "metadata": {},
   "outputs": [],
   "source": [
    "from tensorflow.keras.models import Sequential\n",
    "from tensorflow.keras.layers import Dense, Activation,Dropout\n",
    "from tensorflow.keras.callbacks import EarlyStopping\n",
    "from keras.utils.np_utils import to_categorical\n"
   ]
  },
  {
   "cell_type": "markdown",
   "metadata": {},
   "source": [
    "Create our neural network."
   ]
  },
  {
   "cell_type": "code",
   "execution_count": 52,
   "metadata": {},
   "outputs": [],
   "source": [
    "def create_model(X_train, y_train,\n",
    "                 no_of_hidden_layers,\n",
    "                 hidden_activation,\n",
    "                 epochs, \n",
    "                 batch_size):\n",
    "\n",
    "    model = Sequential()\n",
    "    model.add(Dense(units=2,activation=hidden_activation))\n",
    "    \n",
    "    for i in range(no_of_hidden_layers):\n",
    "        model.add(Dense(units=(no_of_hidden_layers-i)*2,activation=hidden_activation))\n",
    "        \n",
    "    model.add(Dense(units=1,activation='sigmoid'))\n",
    "    model.compile(loss='binary_crossentropy', optimizer='adam')\n",
    "    \n",
    "    model.fit(x=X_train, \n",
    "          y=y_train, \n",
    "          epochs=epochs,\n",
    "          batch_size=batch_size,\n",
    "          #validation_data=(X_validation, y_validation),\n",
    "          #verbose=1,\n",
    "          #callbacks=[EarlyStopping(monitor='val_loss', mode='min', verbose=1, patience=7)]\n",
    "          )\n",
    "    \n",
    "    return model"
   ]
  },
  {
   "cell_type": "markdown",
   "metadata": {},
   "source": [
    "Train our neural network with (X_train, y_train)."
   ]
  },
  {
   "cell_type": "code",
   "execution_count": 53,
   "metadata": {},
   "outputs": [
    {
     "name": "stdout",
     "output_type": "stream",
     "text": [
      "Epoch 1/30\n",
      "2984/2984 [==============================] - 7s 2ms/step - loss: 0.3680\n",
      "Epoch 2/30\n",
      "2984/2984 [==============================] - 6s 2ms/step - loss: 0.3188\n",
      "Epoch 3/30\n",
      "2984/2984 [==============================] - 6s 2ms/step - loss: 0.3108\n",
      "Epoch 4/30\n",
      "2984/2984 [==============================] - 6s 2ms/step - loss: 0.2792\n",
      "Epoch 5/30\n",
      "2984/2984 [==============================] - 6s 2ms/step - loss: 0.1864\n",
      "Epoch 6/30\n",
      "2984/2984 [==============================] - 6s 2ms/step - loss: 0.1713\n",
      "Epoch 7/30\n",
      "2984/2984 [==============================] - 6s 2ms/step - loss: 0.1656\n",
      "Epoch 8/30\n",
      "2984/2984 [==============================] - 6s 2ms/step - loss: 0.1586\n",
      "Epoch 9/30\n",
      "2984/2984 [==============================] - 7s 2ms/step - loss: 0.1561\n",
      "Epoch 10/30\n",
      "2984/2984 [==============================] - 6s 2ms/step - loss: 0.1549\n",
      "Epoch 11/30\n",
      "2984/2984 [==============================] - 6s 2ms/step - loss: 0.1529\n",
      "Epoch 12/30\n",
      "2984/2984 [==============================] - 7s 2ms/step - loss: 0.1509\n",
      "Epoch 13/30\n",
      "2984/2984 [==============================] - 7s 2ms/step - loss: 0.1493\n",
      "Epoch 14/30\n",
      "2984/2984 [==============================] - 6s 2ms/step - loss: 0.1532\n",
      "Epoch 15/30\n",
      "2984/2984 [==============================] - 6s 2ms/step - loss: 0.1425A: 0s - loss: 0.142 - ETA: 0s - loss: 0.14 - ETA: 0s - loss: 0.1\n",
      "Epoch 16/30\n",
      "2984/2984 [==============================] - 10s 3ms/step - loss: 0.1463\n",
      "Epoch 17/30\n",
      "2984/2984 [==============================] - 9s 3ms/step - loss: 0.1453\n",
      "Epoch 18/30\n",
      "2984/2984 [==============================] - 9s 3ms/step - loss: 0.1405\n",
      "Epoch 19/30\n",
      "2984/2984 [==============================] - 13s 4ms/step - loss: 0.1532\n",
      "Epoch 20/30\n",
      "2984/2984 [==============================] - 10s 3ms/step - loss: 0.1425\n",
      "Epoch 21/30\n",
      "2984/2984 [==============================] - 9s 3ms/step - loss: 0.1407\n",
      "Epoch 22/30\n",
      "2984/2984 [==============================] - 10s 3ms/step - loss: 0.1394\n",
      "Epoch 23/30\n",
      "2984/2984 [==============================] - 11s 4ms/step - loss: 0.1360\n",
      "Epoch 24/30\n",
      "2984/2984 [==============================] - 12s 4ms/step - loss: 0.1399\n",
      "Epoch 25/30\n",
      "2984/2984 [==============================] - 9s 3ms/step - loss: 0.1353\n",
      "Epoch 26/30\n",
      "2984/2984 [==============================] - 8s 3ms/step - loss: 0.1350\n",
      "Epoch 27/30\n",
      "2984/2984 [==============================] - 10s 3ms/step - loss: 0.1345\n",
      "Epoch 28/30\n",
      "2984/2984 [==============================] - 9s 3ms/step - loss: 0.1349\n",
      "Epoch 29/30\n",
      "2984/2984 [==============================] - 9s 3ms/step - loss: 0.1330\n",
      "Epoch 30/30\n",
      "2984/2984 [==============================] - 10s 3ms/step - loss: 0.1321\n"
     ]
    }
   ],
   "source": [
    "first_model = create_model(X_train, y_train, 18, 'elu', 30, 256)"
   ]
  },
  {
   "cell_type": "code",
   "execution_count": null,
   "metadata": {},
   "outputs": [],
   "source": [
    "#model_loss = pd.DataFrame(first_model.history.history)\n",
    "#model_loss.plot()"
   ]
  },
  {
   "cell_type": "markdown",
   "metadata": {},
   "source": [
    "Use the trained neural network to predict whether points in (X_test, y_test) have lable 1 (on the snowflake) or 0 (not on the snowflake)."
   ]
  },
  {
   "cell_type": "code",
   "execution_count": 54,
   "metadata": {},
   "outputs": [
    {
     "name": "stderr",
     "output_type": "stream",
     "text": [
      "C:\\Users\\ivanc\\anaconda3\\lib\\site-packages\\tensorflow\\python\\keras\\engine\\sequential.py:450: UserWarning: `model.predict_classes()` is deprecated and will be removed after 2021-01-01. Please use instead:* `np.argmax(model.predict(x), axis=-1)`,   if your model does multi-class classification   (e.g. if it uses a `softmax` last-layer activation).* `(model.predict(x) > 0.5).astype(\"int32\")`,   if your model does binary classification   (e.g. if it uses a `sigmoid` last-layer activation).\n",
      "  warnings.warn('`model.predict_classes()` is deprecated and '\n"
     ]
    }
   ],
   "source": [
    "first_model_prediction = first_model.predict_classes(X_test)\n"
   ]
  },
  {
   "cell_type": "markdown",
   "metadata": {},
   "source": [
    "## Part IV: The result\n",
    "\n",
    "The output above are the labels that the neural network predicts for X_test. Using these labels, we extract the points  with label 1, i.e. those the network believes belong to the Koch snowflake."
   ]
  },
  {
   "cell_type": "code",
   "execution_count": 55,
   "metadata": {},
   "outputs": [],
   "source": [
    "# First, combine X_test with the predicted labels.\n",
    "prediction = np.concatenate((X_test, first_model_prediction), axis=1)\n",
    "\n",
    "# extract the rows with label 1\n",
    "to_plot = prediction[np.where(prediction[:,2] == 1)]\n",
    "\n",
    "# After extracting these points, we can delete the label column which is not useful now.\n",
    "to_plot = np.delete(to_plot, -1, axis=1)\n"
   ]
  },
  {
   "cell_type": "markdown",
   "metadata": {},
   "source": [
    "Here is the plot of what neural network predicts for the points in X_test.\n",
    "\n",
    "The overall outline is there.  The darker places are where the points are concentrated. There are many lightly shaded places indicating mislabels, but since they're lightly shaded it means the mislabels are at least sparse."
   ]
  },
  {
   "cell_type": "code",
   "execution_count": 59,
   "metadata": {},
   "outputs": [
    {
     "data": {
      "image/png": "[encoded data removed]",
      "text/plain": [
       "<Figure size 864x360 with 1 Axes>"
      ]
     },
     "metadata": {
      "needs_background": "light"
     },
     "output_type": "display_data"
    }
   ],
   "source": [
    "plot(-0.1,  1.1, \n",
    "     -0.1,  0.35,\n",
    "     12,    5,\n",
    "     to_plot[:,0], to_plot[:,1])"
   ]
  },
  {
   "cell_type": "markdown",
   "metadata": {},
   "source": [
    "Compared to the| original curve."
   ]
  },
  {
   "cell_type": "code",
   "execution_count": 58,
   "metadata": {},
   "outputs": [
    {
     "data": {
      "image/png": "[encoded data removed]",
      "text/plain": [
       "<Figure size 864x360 with 1 Axes>"
      ]
     },
     "metadata": {
      "needs_background": "light"
     },
     "output_type": "display_data"
    }
   ],
   "source": [
    "plot(-0.1, 1.1, \n",
    "     -0.1, 0.35,\n",
    "     12, 5,\n",
    "     X1[:,0],X1[:,1])"
   ]
  },
  {
   "cell_type": "code",
   "execution_count": null,
   "metadata": {},
   "outputs": [],
   "source": [
    "#plt.savefig('3_0.png')"
   ]
  },
  {
   "cell_type": "markdown",
   "metadata": {},
   "source": [
    "### Possible data \"leakage\"."
   ]
  },
  {
   "cell_type": "code",
   "execution_count": null,
   "metadata": {},
   "outputs": [],
   "source": []
  }
 ],
 "metadata": {
  "kernelspec": {
   "display_name": "Python 3",
   "language": "python",
   "name": "python3"
  },
  "language_info": {
   "codemirror_mode": {
    "name": "ipython",
    "version": 3
   },
   "file_extension": ".py",
   "mimetype": "text/x-python",
   "name": "python",
   "nbconvert_exporter": "python",
   "pygments_lexer": "ipython3",
   "version": "3.8.8"
  }
 },
 "nbformat": 4,
 "nbformat_minor": 4
}
